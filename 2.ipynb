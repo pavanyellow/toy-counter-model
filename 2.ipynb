{
 "cells": [
  {
   "cell_type": "code",
   "execution_count": 10,
   "metadata": {},
   "outputs": [
    {
     "name": "stdout",
     "output_type": "stream",
     "text": [
      "iter:1 training loss: 0.0, val loss: 0.0\n",
      "iter:2 training loss: 0.0, val loss: 0.0\n",
      "iter:3 training loss: 0.0, val loss: 0.0\n",
      "iter:4 training loss: 0.0, val loss: 0.0\n",
      "Took 0.011581182479858398s for 5 epochs\n"
     ]
    },
    {
     "data": {
      "image/png": "[encoded data removed]",
      "text/plain": [
       "<Figure size 640x480 with 1 Axes>"
      ]
     },
     "metadata": {},
     "output_type": "display_data"
    }
   ],
   "source": [
    "import torch\n",
    "import torch.nn as nn\n",
    "import torch.nn.functional as F\n",
    "import random\n",
    "import matplotlib.pyplot as plt\n",
    "import time\n",
    "import numpy as np\n",
    "import plotly.express as px\n",
    "from dataclasses import dataclass\n",
    "\n",
    "torch.manual_seed(10)\n",
    "\n",
    "\n",
    "\n",
    "input_size = 2\n",
    "learning_rate = 0.01\n",
    "max_iters = 5\n",
    "dataset_size = 1024*4\n",
    "batch_size = dataset_size\n",
    "\n",
    "\n",
    "iters = []\n",
    "loss_value = []\n",
    "val_loss_value = []\n",
    "\n",
    "\n",
    "def sample_data(split = 'train', batch_size = batch_size):\n",
    "    if split != 'train':\n",
    "        curr_data = validation_dataset\n",
    "    else:\n",
    "        curr_data = training_dataset\n",
    "    curr_data = curr_data[torch.randperm(curr_data.shape[0])][:batch_size]\n",
    "    a, b = curr_data.shape\n",
    "    \n",
    "    sparsity_vector = torch.rand(a, b)\n",
    "    sparsity_mat = torch.bernoulli(torch.full((a, b), 1.0) * sparsity_vector)\n",
    "    \n",
    "    # X = curr_data * sparsity_mat\n",
    "    X = curr_data\n",
    "    return X\n",
    "\n",
    "\n",
    "\n",
    "DEVICE = torch.device('cpu')\n",
    "\n",
    "@dataclass\n",
    "class Config:\n",
    "    input_size : int\n",
    "    hidden_size : int = 2\n",
    "    layers : int = 2\n",
    "\n",
    "class Two_Two(nn.Module):\n",
    "    def __init__(self, hidden_size) -> None:\n",
    "        super().__init__()\n",
    "        self.layers = nn.Sequential(nn.Linear(hidden_size,hidden_size), nn.Linear(hidden_size,hidden_size) )\n",
    "    \n",
    "    def forward(self, idx):\n",
    "        return self.layers(idx)\n",
    "\n",
    "class Model(nn.Module):\n",
    "    def __init__(self, config : Config) -> None:\n",
    "        super().__init__()\n",
    "        self.config = config\n",
    "        self.layers = nn.Sequential(\n",
    "                        nn.Linear(config.input_size, config.hidden_size),\n",
    "                        nn.ReLU(),\n",
    "                        nn.Linear(config.hidden_size, 1),\n",
    "                    )\n",
    "\n",
    "    \n",
    "    def forward(self, idx : torch.Tensor):\n",
    "        count = self.layers(idx) \n",
    "\n",
    "        loss = nn.MSELoss()\n",
    "        \n",
    "        return count, loss(count.squeeze(-1), count.sum(-1))\n",
    "\n",
    "\n",
    "training_dataset = torch.rand(dataset_size, input_size)\n",
    "validation_dataset = torch.rand(int(dataset_size/2), input_size)\n",
    "output = input\n",
    "\n",
    "\n",
    "model = Model(Config(input_size= input_size))\n",
    "\n",
    "def get_accuracy():\n",
    "    a= sample_data(split = 'val', batch_size= 1024)\n",
    "    n = (model(a)[0].argmax(-1) == (a>0).sum(-1))\n",
    "    print(\"val accuracy\",n.sum()/a.shape[0])\n",
    "optimizer = torch.optim.Adam(model.parameters() , learning_rate, weight_decay= 1e-4)\n",
    "start_time = time.time()\n",
    "step_value = max_iters/20\n",
    "for i in range(1, max_iters):\n",
    "    X =  sample_data()\n",
    "    count, loss = model(X)\n",
    "   \n",
    "    if i%step_value ==0 :\n",
    "        model.eval()\n",
    "        with torch.no_grad():\n",
    "            X_V = sample_data(split = 'val')\n",
    "            _, val_loss= model(X_V)\n",
    "            iters.append(i)\n",
    "            loss_value.append(loss.item())\n",
    "            val_loss_value.append(val_loss.item())\n",
    "            print(f\"iter:{i} training loss: {loss.item()}, val loss: {val_loss.item()}\")\n",
    "        model.train()\n",
    "\n",
    "    optimizer.zero_grad(set_to_none=True)\n",
    "    #loss+= get_l1_penalty()\n",
    "    loss.backward()\n",
    "    optimizer.step()\n",
    "\n",
    "\n",
    "end_time = time.time()\n",
    "print(f\"Took {end_time-start_time}s for {max_iters} epochs\")\n",
    "\n",
    "plt.xlabel(\"Epochs\")\n",
    "plt.ylabel(\"Loss\")\n",
    "plt.plot(iters,loss_value, color='blue', label=\"Training\")\n",
    "plt.plot(iters, val_loss_value, \"red\", label = \"validation\")\n",
    "plt.legend()\n",
    "plt.show()"
   ]
  },
  {
   "cell_type": "code",
   "execution_count": 9,
   "metadata": {},
   "outputs": [
    {
     "data": {
      "text/plain": [
       "Parameter containing:\n",
       "tensor([[-0.0757, -0.0376],\n",
       "        [ 0.5545,  0.0796]], requires_grad=True)"
      ]
     },
     "execution_count": 9,
     "metadata": {},
     "output_type": "execute_result"
    }
   ],
   "source": [
    "model.layers[0].weight"
   ]
  },
  {
   "cell_type": "code",
   "execution_count": 11,
   "metadata": {},
   "outputs": [
    {
     "data": {
      "text/plain": [
       "tensor([[0.6954, 0.8820],\n",
       "        [0.0605, 0.9477],\n",
       "        [0.5807, 0.5673],\n",
       "        ...,\n",
       "        [0.6674, 0.3878],\n",
       "        [0.8413, 0.1498],\n",
       "        [0.3056, 0.3317]])"
      ]
     },
     "execution_count": 11,
     "metadata": {},
     "output_type": "execute_result"
    }
   ],
   "source": [
    "X = sample_data()\n",
    "X"
   ]
  },
  {
   "cell_type": "code",
   "execution_count": 12,
   "metadata": {},
   "outputs": [
    {
     "data": {
      "text/plain": [
       "tensor([[0.6954, 0.8820],\n",
       "        [0.0605, 0.9477],\n",
       "        [0.5807, 0.5673],\n",
       "        ...,\n",
       "        [0.6674, 0.3878],\n",
       "        [0.8413, 0.1498],\n",
       "        [0.3056, 0.3317]])"
      ]
     },
     "execution_count": 12,
     "metadata": {},
     "output_type": "execute_result"
    }
   ],
   "source": [
    "X"
   ]
  },
  {
   "cell_type": "code",
   "execution_count": 14,
   "metadata": {},
   "outputs": [
    {
     "data": {
      "text/plain": [
       "(tensor([[0.2831],\n",
       "         [0.2827],\n",
       "         [0.2829],\n",
       "         ...,\n",
       "         [0.2829],\n",
       "         [0.2830],\n",
       "         [0.2827]], grad_fn=<AddmmBackward0>),\n",
       " tensor([1.5774, 1.0082, 1.1479,  ..., 1.0552, 0.9912, 0.6373]))"
      ]
     },
     "execution_count": 14,
     "metadata": {},
     "output_type": "execute_result"
    }
   ],
   "source": [
    "model(X)[0], X.sum(-1)"
   ]
  },
  {
   "cell_type": "code",
   "execution_count": null,
   "metadata": {},
   "outputs": [],
   "source": []
  }
 ],
 "metadata": {
  "kernelspec": {
   "display_name": "interp",
   "language": "python",
   "name": "python3"
  },
  "language_info": {
   "codemirror_mode": {
    "name": "ipython",
    "version": 3
   },
   "file_extension": ".py",
   "mimetype": "text/x-python",
   "name": "python",
   "nbconvert_exporter": "python",
   "pygments_lexer": "ipython3",
   "version": "3.11.7"
  }
 },
 "nbformat": 4,
 "nbformat_minor": 2
}
