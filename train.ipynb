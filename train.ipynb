{
 "cells": [
  {
   "cell_type": "code",
   "execution_count": null,
   "metadata": {},
   "outputs": [],
   "source": [
    "import torch\n",
    "import torch.nn as nn\n",
    "import torch.nn.functional as F\n",
    "import random\n",
    "import matplotlib.pyplot as plt\n",
    "import time\n",
    "import numpy as np\n",
    "import plotly.express as px\n",
    "from dataclasses import dataclass\n",
    "\n",
    "torch.manual_seed(10)\n",
    "\n",
    "\n",
    "\n",
    "input_size =5\n",
    "learning_rate = 0.01\n",
    "max_iters = 1000\n",
    "dataset_size = 1024*32\n",
    "sparsity = 0.1\n",
    "batch_size = 32\n",
    "\n",
    "iters = []\n",
    "loss_value = []\n",
    "val_loss_value = []\n",
    "\n",
    "\n",
    "def sample_data(split = 'train'):\n",
    "    if split != 'train':\n",
    "        curr_data = validation_dataset\n",
    "    else:\n",
    "        curr_data = training_dataset\n",
    "    sparsity_vector = sparsity\n",
    "    a, b = curr_data.shape\n",
    "    \n",
    "    sparsity_vector = torch.rand(5)\n",
    "    sparsity_vector = sparsity_vector.view(1, -1)\n",
    "    sparsity_mat = torch.bernoulli(torch.full((a, b), 1.0) * sparsity_vector)\n",
    "    \n",
    "    X = curr_data * sparsity_mat\n",
    "    return X, X\n",
    "\n",
    "\n",
    "\n",
    "DEVICE = torch.device('cpu')\n",
    "\n",
    "@dataclass\n",
    "class Config:\n",
    "    input_size : int = 5\n",
    "    layers : int = 2\n",
    "\n",
    "class Two_Two(nn.Module):\n",
    "    def __init__(self) -> None:\n",
    "        self.layers = nn.ModuleList([nn.Linear(2,2), nn.ReLU()])\n",
    "\n",
    "class Model(nn.Module):\n",
    "    def __init__(self, config : Config) -> None:\n",
    "        super().__init__()\n",
    "        self.config = config\n",
    "        self.layers = nn.ModuleList([nn.Linear(config.input_size, 2)]+[Two_Two() for i in range(config.layers)] + [nn.Linear(2, 1)])\n",
    "    \n",
    "    def forward(self, idx : torch.Tensor):\n",
    "        count = self.layers(idx)\n",
    "        return count, (count-(idx>0).sum())**2\n",
    "\n",
    "\n",
    "        \n",
    "\n",
    "training_dataset = torch.rand(dataset_size, input_size)\n",
    "validation_dataset = torch.rand(int(dataset_size/2), input_size)\n",
    "output = input\n",
    "\n",
    "\n",
    "model = Model(Config())\n",
    "\n",
    "\n",
    "optimizer = torch.optim.Adam(model.parameters() , learning_rate, weight_decay= 1e-5)\n",
    "start_time = time.time()\n",
    "step_value = max_iters/20\n",
    "for i in range(1, max_iters):\n",
    "    X, Y = sample_data()\n",
    "    logits, loss, _ = model(X, Y)\n",
    "\n",
    "    if i%step_value ==0 :\n",
    "        model.eval()\n",
    "        with torch.no_grad():\n",
    "            X_V,Y_V = sample_data(split = 'val')\n",
    "            _, val_loss, _ = model(X_V, Y_V)\n",
    "            iters.append(i)\n",
    "            loss_value.append(loss.item())\n",
    "            val_loss_value.append(val_loss.item())\n",
    "            print(f\"iter:{i} training loss: {loss.item()}, val loss: {val_loss.item()}\")\n",
    "        model.train()\n",
    "\n",
    "    optimizer.zero_grad(set_to_none=True)\n",
    "    #loss+= get_l1_penalty()\n",
    "    loss.backward()\n",
    "    optimizer.step()\n",
    "\n",
    "\n",
    "end_time = time.time()\n",
    "print(f\"Took {end_time-start_time}s for {max_iters} epochs\")\n",
    "\n",
    "plt.xlabel(\"Epochs\")\n",
    "plt.ylabel(\"Loss\")\n",
    "plt.plot(iters,loss_value, color='blue', label=\"Training\")\n",
    "plt.plot(iters, val_loss_value, \"red\", label = \"validation\")\n",
    "plt.legend()\n",
    "plt.show()"
   ]
  },
  {
   "cell_type": "code",
   "execution_count": 1,
   "metadata": {},
   "outputs": [],
   "source": [
    "import torch"
   ]
  },
  {
   "cell_type": "code",
   "execution_count": 2,
   "metadata": {},
   "outputs": [],
   "source": [
    "a = torch.rand(5,5)"
   ]
  },
  {
   "cell_type": "code",
   "execution_count": 5,
   "metadata": {},
   "outputs": [
    {
     "data": {
      "text/plain": [
       "tensor(25)"
      ]
     },
     "execution_count": 5,
     "metadata": {},
     "output_type": "execute_result"
    }
   ],
   "source": [
    "(a>=0).sum()"
   ]
  },
  {
   "cell_type": "code",
   "execution_count": 8,
   "metadata": {},
   "outputs": [
    {
     "data": {
      "text/plain": [
       "tensor([0.3023, 0.3675, 0.1506, 0.4065, 0.0530])"
      ]
     },
     "execution_count": 8,
     "metadata": {},
     "output_type": "execute_result"
    }
   ],
   "source": [
    "torch.rand(5)"
   ]
  },
  {
   "cell_type": "code",
   "execution_count": null,
   "metadata": {},
   "outputs": [],
   "source": []
  }
 ],
 "metadata": {
  "kernelspec": {
   "display_name": "interp",
   "language": "python",
   "name": "python3"
  },
  "language_info": {
   "codemirror_mode": {
    "name": "ipython",
    "version": 3
   },
   "file_extension": ".py",
   "mimetype": "text/x-python",
   "name": "python",
   "nbconvert_exporter": "python",
   "pygments_lexer": "ipython3",
   "version": "3.11.7"
  }
 },
 "nbformat": 4,
 "nbformat_minor": 2
}
