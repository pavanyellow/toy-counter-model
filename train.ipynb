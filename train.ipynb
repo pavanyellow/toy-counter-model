{
 "cells": [
  {
   "cell_type": "code",
   "execution_count": 49,
   "metadata": {},
   "outputs": [
    {
     "name": "stdout",
     "output_type": "stream",
     "text": [
      "iter:50 training loss: 17.1728515625, val loss: 20.130859375\n",
      "iter:100 training loss: 25.033203125, val loss: 18.009765625\n",
      "iter:150 training loss: 3.433776617050171, val loss: 9.208465576171875\n",
      "iter:200 training loss: 2.8052926063537598, val loss: 1.6948271989822388\n",
      "iter:250 training loss: 2.384070634841919, val loss: 5.5604448318481445\n",
      "iter:300 training loss: 1.840159296989441, val loss: 1.3177443742752075\n",
      "iter:350 training loss: 6.44832181930542, val loss: 2.8796422481536865\n",
      "iter:400 training loss: 1.7046830654144287, val loss: 3.0454885959625244\n",
      "iter:450 training loss: 1.6127718687057495, val loss: 4.159500598907471\n",
      "iter:500 training loss: 8.671034812927246, val loss: 5.488805770874023\n",
      "iter:550 training loss: 1.6398993730545044, val loss: 5.231452465057373\n",
      "iter:600 training loss: 2.121502161026001, val loss: 1.8644322156906128\n",
      "iter:650 training loss: 1.695820927619934, val loss: 2.099560022354126\n",
      "iter:700 training loss: 1.683272361755371, val loss: 1.8282644748687744\n",
      "iter:750 training loss: 2.1312150955200195, val loss: 3.304109811782837\n",
      "iter:800 training loss: 3.2868475914001465, val loss: 5.271034240722656\n",
      "iter:850 training loss: 1.749314308166504, val loss: 1.7302922010421753\n",
      "iter:900 training loss: 1.8790504932403564, val loss: 1.89293372631073\n",
      "iter:950 training loss: 1.5451123714447021, val loss: 2.2992875576019287\n",
      "Took 4.447287082672119s for 1000 epochs\n"
     ]
    },
    {
     "data": {
      "image/png": "[encoded data removed]",
      "text/plain": [
       "<Figure size 640x480 with 1 Axes>"
      ]
     },
     "metadata": {},
     "output_type": "display_data"
    }
   ],
   "source": [
    "import torch\n",
    "import torch.nn as nn\n",
    "import torch.nn.functional as F\n",
    "import random\n",
    "import matplotlib.pyplot as plt\n",
    "import time\n",
    "import numpy as np\n",
    "import plotly.express as px\n",
    "from dataclasses import dataclass\n",
    "\n",
    "torch.manual_seed(10)\n",
    "\n",
    "\n",
    "\n",
    "input_size =10\n",
    "learning_rate = 0.003\n",
    "max_iters = 1000\n",
    "dataset_size = 1024\n",
    "sparsity = 0.1\n",
    "batch_size = 32\n",
    "\n",
    "iters = []\n",
    "loss_value = []\n",
    "val_loss_value = []\n",
    "\n",
    "\n",
    "def sample_data(split = 'train'):\n",
    "    if split != 'train':\n",
    "        curr_data = validation_dataset\n",
    "    else:\n",
    "        curr_data = training_dataset\n",
    "    sparsity_vector = sparsity\n",
    "    a, b = curr_data.shape\n",
    "    \n",
    "    sparsity_vector = torch.rand(input_size)\n",
    "    sparsity_vector = sparsity_vector.view(1, -1)\n",
    "    sparsity_mat = torch.bernoulli(torch.full((a, b), 1.0) * sparsity_vector)\n",
    "    \n",
    "    X = curr_data * sparsity_mat\n",
    "    return X, X\n",
    "\n",
    "\n",
    "\n",
    "DEVICE = torch.device('cpu')\n",
    "\n",
    "@dataclass\n",
    "class Config:\n",
    "    input_size : int = 10\n",
    "    hidden_size : int = 10\n",
    "    layers : int = 10\n",
    "\n",
    "class Two_Two(nn.Module):\n",
    "    def __init__(self, hidden_size) -> None:\n",
    "        super().__init__()\n",
    "        self.layers = nn.Sequential(nn.Linear(hidden_size,hidden_size), nn.ReLU(), nn.Linear(hidden_size,hidden_size) )\n",
    "    \n",
    "    def forward(self, idx):\n",
    "        return self.layers(idx)\n",
    "\n",
    "class Model(nn.Module):\n",
    "    def __init__(self, config : Config) -> None:\n",
    "        super().__init__()\n",
    "        self.config = config\n",
    "        self.layers = nn.Sequential(\n",
    "                        nn.Linear(config.input_size, config.hidden_size),\n",
    "                        *[Two_Two(config.hidden_size) for i in range(config.layers)],\n",
    "                        nn.Linear(config.hidden_size, 1),\n",
    "                        nn.ReLU()\n",
    "                    )\n",
    "\n",
    "    \n",
    "    def forward(self, idx : torch.Tensor):\n",
    "        count = self.layers(idx)\n",
    "        loss = ((count-(idx>0).sum(-1))**2).mean()\n",
    "        \n",
    "        return count, loss\n",
    "\n",
    "\n",
    "        \n",
    "\n",
    "training_dataset = torch.rand(dataset_size, input_size)\n",
    "validation_dataset = torch.rand(int(dataset_size/2), input_size)\n",
    "output = input\n",
    "\n",
    "\n",
    "model = Model(Config(input_size= input_size))\n",
    "\n",
    "\n",
    "optimizer = torch.optim.Adam(model.parameters() , learning_rate, weight_decay= 1e-5)\n",
    "start_time = time.time()\n",
    "step_value = max_iters/20\n",
    "for i in range(1, max_iters):\n",
    "    X, Y = sample_data()\n",
    "    count, loss = model(X)\n",
    "   \n",
    "    if i%step_value ==0 :\n",
    "        model.eval()\n",
    "        with torch.no_grad():\n",
    "            X_V,Y_V = sample_data(split = 'val')\n",
    "            _, val_loss= model(X_V)\n",
    "            iters.append(i)\n",
    "            loss_value.append(loss.item())\n",
    "            val_loss_value.append(val_loss.item())\n",
    "            print(f\"iter:{i} training loss: {loss.item()}, val loss: {val_loss.item()}\")\n",
    "        model.train()\n",
    "\n",
    "    optimizer.zero_grad(set_to_none=True)\n",
    "    #loss+= get_l1_penalty()\n",
    "    loss.backward()\n",
    "    optimizer.step()\n",
    "\n",
    "\n",
    "end_time = time.time()\n",
    "print(f\"Took {end_time-start_time}s for {max_iters} epochs\")\n",
    "\n",
    "plt.xlabel(\"Epochs\")\n",
    "plt.ylabel(\"Loss\")\n",
    "plt.plot(iters,loss_value, color='blue', label=\"Training\")\n",
    "plt.plot(iters, val_loss_value, \"red\", label = \"validation\")\n",
    "plt.legend()\n",
    "plt.show()"
   ]
  },
  {
   "cell_type": "code",
   "execution_count": 50,
   "metadata": {},
   "outputs": [],
   "source": [
    "a,b = sample_data()"
   ]
  },
  {
   "cell_type": "code",
   "execution_count": 51,
   "metadata": {},
   "outputs": [
    {
     "data": {
      "text/plain": [
       "tensor([[0.0000, 0.4829, 0.0000, 0.6150, 0.2139, 0.4118, 0.6938, 0.0000, 0.6178,\n",
       "         0.3304],\n",
       "        [0.0000, 0.0000, 0.0000, 0.5573, 0.6959, 0.9849, 0.0000, 0.0000, 0.6150,\n",
       "         0.0000],\n",
       "        [0.0000, 0.0000, 0.0000, 0.0501, 0.0108, 0.0343, 0.0000, 0.0000, 0.0310,\n",
       "         0.7192],\n",
       "        [0.8067, 0.0000, 0.0000, 0.0000, 0.7203, 0.2235, 0.9502, 0.0000, 0.9314,\n",
       "         0.6533],\n",
       "        [0.0000, 0.0000, 0.0000, 0.3546, 0.5752, 0.4787, 0.5782, 0.0000, 0.1093,\n",
       "         0.4771]])"
      ]
     },
     "execution_count": 51,
     "metadata": {},
     "output_type": "execute_result"
    }
   ],
   "source": [
    "a[:5]"
   ]
  },
  {
   "cell_type": "code",
   "execution_count": 52,
   "metadata": {},
   "outputs": [
    {
     "data": {
      "text/plain": [
       "(tensor([[4.8944],\n",
       "         [4.8944],\n",
       "         [4.8944],\n",
       "         [4.8944],\n",
       "         [4.8944]], grad_fn=<ReluBackward0>),\n",
       " tensor(1.5379, grad_fn=<MeanBackward0>))"
      ]
     },
     "execution_count": 52,
     "metadata": {},
     "output_type": "execute_result"
    }
   ],
   "source": [
    "model(a[:5])"
   ]
  },
  {
   "cell_type": "code",
   "execution_count": 53,
   "metadata": {},
   "outputs": [
    {
     "data": {
      "text/plain": [
       "tensor([7, 4, 5, 6, 6])"
      ]
     },
     "execution_count": 53,
     "metadata": {},
     "output_type": "execute_result"
    }
   ],
   "source": [
    "(a[:5]>0).sum(-1)"
   ]
  },
  {
   "cell_type": "code",
   "execution_count": null,
   "metadata": {},
   "outputs": [],
   "source": []
  }
 ],
 "metadata": {
  "kernelspec": {
   "display_name": "interp",
   "language": "python",
   "name": "python3"
  },
  "language_info": {
   "codemirror_mode": {
    "name": "ipython",
    "version": 3
   },
   "file_extension": ".py",
   "mimetype": "text/x-python",
   "name": "python",
   "nbconvert_exporter": "python",
   "pygments_lexer": "ipython3",
   "version": "3.11.7"
  }
 },
 "nbformat": 4,
 "nbformat_minor": 2
}
